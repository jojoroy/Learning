{
  "nbformat": 4,
  "nbformat_minor": 0,
  "metadata": {
    "colab": {
      "provenance": [],
      "authorship_tag": "ABX9TyOuN3LHtmdVMafvi6WrEypQ",
      "include_colab_link": true
    },
    "kernelspec": {
      "name": "python3",
      "display_name": "Python 3"
    },
    "language_info": {
      "name": "python"
    }
  },
  "cells": [
    {
      "cell_type": "markdown",
      "metadata": {
        "id": "view-in-github",
        "colab_type": "text"
      },
      "source": [
        "<a href=\"https://colab.research.google.com/github/jojoroy/Learning/blob/main/Decision_Tree.ipynb\" target=\"_parent\"><img src=\"https://colab.research.google.com/assets/colab-badge.svg\" alt=\"Open In Colab\"/></a>"
      ]
    },
    {
      "cell_type": "code",
      "execution_count": 1,
      "metadata": {
        "id": "EYfOmnsTgMEJ"
      },
      "outputs": [],
      "source": [
        "import pandas as pd\n",
        "import numpy as np"
      ]
    },
    {
      "cell_type": "code",
      "source": [
        "num_samples = 100\n",
        "\n",
        "# Generate random features\n",
        "feature_1 = np.random.normal(0, 1, num_samples)  # Normally distributed feature\n",
        "feature_2 = np.random.uniform(0, 10, num_samples)  # Uniformly distributed feature\n",
        "feature_3 = np.random.randint(0, 100, num_samples)  # Integer feature\n",
        "\n",
        "# Generate binary labels (0 or 1)\n",
        "# Example: Labels based on a condition\n",
        "labels = (feature_1 + feature_2 > 5).astype(int)  # Label is 1 if the sum of feature_1 and feature_2 > 5\n",
        "\n",
        "# Create the DataFrame\n",
        "df = pd.DataFrame({\n",
        "    'Feature_1': feature_1,\n",
        "    'Feature_2': feature_2,\n",
        "    'Feature_3': feature_3,\n",
        "    'Label': labels\n",
        "})\n",
        "\n",
        "print(df.head())"
      ],
      "metadata": {
        "colab": {
          "base_uri": "https://localhost:8080/"
        },
        "id": "Fl5sSAtNhSDC",
        "outputId": "8bd59254-635a-498a-fb97-b25ea8c00694"
      },
      "execution_count": 2,
      "outputs": [
        {
          "output_type": "stream",
          "name": "stdout",
          "text": [
            "   Feature_1  Feature_2  Feature_3  Label\n",
            "0  -0.711742   5.381214         84      0\n",
            "1   0.847948   4.508541         26      1\n",
            "2  -1.955470   6.390181         29      0\n",
            "3  -2.040763   7.347334         52      1\n",
            "4  -0.263161   7.156203         76      1\n"
          ]
        }
      ]
    }
  ]
}